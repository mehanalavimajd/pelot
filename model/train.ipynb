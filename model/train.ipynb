{
 "cells": [
  {
   "cell_type": "markdown",
   "metadata": {},
   "source": [
    "Let's go."
   ]
  },
  {
   "cell_type": "code",
   "execution_count": null,
   "metadata": {},
   "outputs": [],
   "source": [
    "import pandas as pd"
   ]
  },
  {
   "cell_type": "code",
   "execution_count": null,
   "metadata": {},
   "outputs": [],
   "source": [
    "def openData():\n",
    "    df=pd.read_csv(\"../data.csv\")\n",
    "    return df\n",
    "house=openData()\n",
    "house.info()\n",
    "house['age'] = (1403-house['buildYear']) # adding age for better corr"
   ]
  },
  {
   "cell_type": "markdown",
   "metadata": {},
   "source": [
    "just working a bit with the dataset to understand what's going on. you can pass this."
   ]
  },
  {
   "cell_type": "code",
   "execution_count": null,
   "metadata": {},
   "outputs": [],
   "source": [
    "print(house.describe())"
   ]
  },
  {
   "cell_type": "code",
   "execution_count": null,
   "metadata": {},
   "outputs": [],
   "source": [
    "import matplotlib.pyplot as plt\n",
    "house.hist()\n",
    "# plt.show()"
   ]
  },
  {
   "cell_type": "markdown",
   "metadata": {},
   "source": [
    "**making the test set**"
   ]
  },
  {
   "cell_type": "code",
   "execution_count": null,
   "metadata": {},
   "outputs": [],
   "source": [
    "from zlib import crc32\n",
    "import numpy as np\n",
    "def is_id_in_test_set(identifier, test_ratio):\n",
    "    return crc32(np.int64(identifier)) < test_ratio * 2**32\n",
    "def split_data_with_id_hash(data, test_ratio, id_column):\n",
    "    ids = data[id_column]\n",
    "    in_test_set = ids.apply(lambda id_: is_id_in_test_set(id_, test_ratio))\n",
    "    return data.loc[~in_test_set], data.loc[in_test_set]\n"
   ]
  },
  {
   "cell_type": "markdown",
   "metadata": {},
   "source": [
    "adding an index to data as it's needed."
   ]
  },
  {
   "cell_type": "code",
   "execution_count": null,
   "metadata": {},
   "outputs": [],
   "source": [
    "house_with_id = house.reset_index() # adds an `index` column\n",
    "train_set, test_set = split_data_with_id_hash(house_with_id, 0.2, \"index\")"
   ]
  },
  {
   "cell_type": "markdown",
   "metadata": {},
   "source": [
    "stratified sampling:"
   ]
  },
  {
   "cell_type": "code",
   "execution_count": null,
   "metadata": {},
   "outputs": [],
   "source": [
    "house[\"meter_cat\"] = pd.cut(house[\"meter\"],\n",
    "bins=[0., 40, 80, 120, 160, 200., np.inf],\n",
    "labels=[1, 2, 3, 4, 5, 6])\n",
    "house[\"meter_cat\"].value_counts().sort_index().plot.bar(rot=0, grid=True)\n",
    "plt.xlabel(\"Income category\")\n",
    "plt.ylabel(\"Number of districts\")\n",
    "# plt.show()"
   ]
  },
  {
   "cell_type": "code",
   "execution_count": null,
   "metadata": {},
   "outputs": [],
   "source": [
    "from sklearn.model_selection import StratifiedShuffleSplit\n",
    "\n",
    "splitter = StratifiedShuffleSplit(n_splits=1, test_size=0.2, random_state=0)\n",
    "stratSplits = []\n",
    "for trainIndex, testIndex in splitter.split(house, house[\"meter_cat\"]):\n",
    "    stratTrainSetN = house.iloc[trainIndex]\n",
    "    stratTestSetN = house.iloc[testIndex]\n",
    "    stratSplits.append([stratTrainSetN, stratTestSetN])\n",
    "    \n",
    "stratTrainSet, stratTestSet = stratSplits[0]\n",
    "print(stratTestSet[\"meter_cat\"].value_counts() / len(stratTestSet))"
   ]
  },
  {
   "cell_type": "code",
   "execution_count": null,
   "metadata": {},
   "outputs": [],
   "source": [
    "stratTrainSet, stratTestSet = stratSplits[0]\n",
    "print(stratTestSet[\"meter_cat\"].value_counts() / len(stratTestSet))"
   ]
  },
  {
   "cell_type": "code",
   "execution_count": null,
   "metadata": {},
   "outputs": [],
   "source": [
    "for set_ in ( stratTrainSet ,stratTestSet):\n",
    "    set_.drop(\"meter_cat\", axis=1 , inplace=True)"
   ]
  },
  {
   "cell_type": "markdown",
   "metadata": {},
   "source": [
    "_**START of the MODEL pre-process**_"
   ]
  },
  {
   "cell_type": "code",
   "execution_count": null,
   "metadata": {},
   "outputs": [],
   "source": [
    "house = stratTrainSet.copy()\n",
    "corr_matrix = house.corr()\n",
    "print(corr_matrix['price'].sort_values(ascending=False))"
   ]
  },
  {
   "cell_type": "markdown",
   "metadata": {},
   "source": [
    "_note 1_ : wow it seems that meter is really important!"
   ]
  },
  {
   "cell_type": "code",
   "execution_count": null,
   "metadata": {},
   "outputs": [],
   "source": [
    "house = stratTrainSet.drop('price',axis=1)\n",
    "labels = stratTestSet['price'].copy()"
   ]
  },
  {
   "cell_type": "markdown",
   "metadata": {},
   "source": [
    "imputation"
   ]
  },
  {
   "cell_type": "code",
   "execution_count": 38,
   "metadata": {},
   "outputs": [
    {
     "name": "stdout",
     "output_type": "stream",
     "text": [
      "            meter    buildYear       rooms       floor         age\n",
      "count  748.000000   748.000000  746.000000  748.000000  748.000000\n",
      "mean    96.050802  1393.288770    1.941019    3.687166    9.711230\n",
      "std     52.553894     7.995449    0.732198    3.216173    7.995449\n",
      "min      1.000000  1370.000000    1.000000    1.000000    0.000000\n",
      "25%     62.000000  1386.750000    1.000000    2.000000    2.000000\n",
      "50%     82.500000  1395.000000    2.000000    3.000000    8.000000\n",
      "75%    115.000000  1401.000000    2.000000    4.000000   16.250000\n",
      "max    650.000000  1403.000000    4.000000   27.000000   33.000000\n",
      "            meter    buildYear       rooms       floor         age\n",
      "count  748.000000   748.000000  748.000000  748.000000  748.000000\n",
      "mean    96.050802  1393.288770    1.941176    3.687166    9.711230\n",
      "std     52.553894     7.995449    0.731223    3.216173    7.995449\n",
      "min      1.000000  1370.000000    1.000000    1.000000    0.000000\n",
      "25%     62.000000  1386.750000    1.000000    2.000000    2.000000\n",
      "50%     82.500000  1395.000000    2.000000    3.000000    8.000000\n",
      "75%    115.000000  1401.000000    2.000000    4.000000   16.250000\n",
      "max    650.000000  1403.000000    4.000000   27.000000   33.000000\n",
      "            meter    buildYear       rooms       floor         age\n",
      "count  748.000000   748.000000  748.000000  748.000000  748.000000\n",
      "mean    96.050802  1393.288770    1.941176    3.687166    9.711230\n",
      "std     52.553894     7.995449    0.731223    3.216173    7.995449\n",
      "min      1.000000  1370.000000    1.000000    1.000000    0.000000\n",
      "25%     62.000000  1386.750000    1.000000    2.000000    2.000000\n",
      "50%     82.500000  1395.000000    2.000000    3.000000    8.000000\n",
      "75%    115.000000  1401.000000    2.000000    4.000000   16.250000\n",
      "max    650.000000  1403.000000    4.000000   27.000000   33.000000\n",
      "            meter    buildYear       rooms       floor         age\n",
      "count  748.000000   748.000000  748.000000  748.000000  748.000000\n",
      "mean    96.050802  1393.288770    1.941176    3.687166    9.711230\n",
      "std     52.553894     7.995449    0.731223    3.216173    7.995449\n",
      "min      1.000000  1370.000000    1.000000    1.000000    0.000000\n",
      "25%     62.000000  1386.750000    1.000000    2.000000    2.000000\n",
      "50%     82.500000  1395.000000    2.000000    3.000000    8.000000\n",
      "75%    115.000000  1401.000000    2.000000    4.000000   16.250000\n",
      "max    650.000000  1403.000000    4.000000   27.000000   33.000000\n"
     ]
    }
   ],
   "source": [
    "def imputeFrequent(cols,h):\n",
    "    for col in cols:\n",
    "        frequent = house[col].mode()\n",
    "        h[[col]]=h[[col]].fillna(float(frequent),inplace=False)\n",
    "    return h\n",
    "house = imputeFrequent(['floor','rooms','meter','buildYear'], house)\n",
    "house.describe()\n"
   ]
  },
  {
   "cell_type": "markdown",
   "metadata": {},
   "source": [
    "*Handling district*"
   ]
  },
  {
   "cell_type": "code",
   "execution_count": null,
   "metadata": {},
   "outputs": [],
   "source": [
    "from sklearn.preprocessing import OneHotEncoder\n",
    "houseCategory=house[['district']]\n",
    "housingOneHot = OneHotEncoder().fit_transform(houseCategory)\n",
    "housingOneHot.toarray()"
   ]
  },
  {
   "cell_type": "markdown",
   "metadata": {},
   "source": [
    "number attributes:"
   ]
  },
  {
   "cell_type": "code",
   "execution_count": null,
   "metadata": {},
   "outputs": [],
   "source": [
    "from sklearn.preprocessing import StandardScaler\n",
    "std_scaler = StandardScaler()\n",
    "houseNum=house.select_dtypes(np.number)\n",
    "housingNumStd = std_scaler.fit_transform(houseNum)\n",
    "\n",
    "from sklearn.preprocessing import FunctionTransformer\n",
    "log_transformer = FunctionTransformer(np.log, inverse_func=np.exp)\n",
    "log_pop = log_transformer.transform(house[[\"meter\"]])"
   ]
  },
  {
   "cell_type": "markdown",
   "metadata": {},
   "source": [
    "**And finally The PIPELINE**"
   ]
  },
  {
   "cell_type": "code",
   "execution_count": null,
   "metadata": {},
   "outputs": [],
   "source": [
    "from sklearn.pipeline import Pipeline,make_pipeline\n",
    "from sklearn.impute import SimpleImputer\n",
    "from sklearn.compose import ColumnTransformer\n",
    "\n",
    "num_pipeline = Pipeline([\n",
    "(\"impute\", SimpleImputer(strategy='most_frequent')),\n",
    "(\"standardize\", StandardScaler()),\n",
    "])\n",
    "houseNumPrepared=num_pipeline.fit_transform(houseNum)\n",
    "cat_pipeline = make_pipeline(\n",
    "SimpleImputer(strategy=\"most_frequent\"),\n",
    "OneHotEncoder(handle_unknown=\"ignore\"))\n",
    "\n",
    "preprocessing = ColumnTransformer([\n",
    "    ('cat',cat_pipeline,['district'])\n",
    "],remainder=num_pipeline)\n",
    "housing_prepared = preprocessing.fit_transform(house)\n",
    "house.describe()"
   ]
  },
  {
   "cell_type": "markdown",
   "metadata": {},
   "source": [
    "**Train**"
   ]
  },
  {
   "cell_type": "code",
   "execution_count": null,
   "metadata": {},
   "outputs": [],
   "source": [
    "from sklearn.linear_model import LinearRegression\n",
    "lin_reg = make_pipeline(preprocessing, LinearRegression())\n",
    "lin_reg.fit(house, labels)"
   ]
  }
 ],
 "metadata": {
  "kernelspec": {
   "display_name": "Python 3",
   "language": "python",
   "name": "python3"
  },
  "language_info": {
   "codemirror_mode": {
    "name": "ipython",
    "version": 3
   },
   "file_extension": ".py",
   "mimetype": "text/x-python",
   "name": "python",
   "nbconvert_exporter": "python",
   "pygments_lexer": "ipython3",
   "version": "3.8.10"
  }
 },
 "nbformat": 4,
 "nbformat_minor": 2
}
