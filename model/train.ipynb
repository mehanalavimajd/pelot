{
 "cells": [
  {
   "cell_type": "markdown",
   "metadata": {},
   "source": [
    "Let's go."
   ]
  },
  {
   "cell_type": "code",
   "execution_count": null,
   "metadata": {},
   "outputs": [],
   "source": [
    "import pandas as pd"
   ]
  },
  {
   "cell_type": "code",
   "execution_count": null,
   "metadata": {},
   "outputs": [],
   "source": [
    "def openData():\n",
    "    df=pd.read_csv(\"../data.csv\")\n",
    "    df.drop_duplicates()\n",
    "    return df\n",
    "df=openData()\n",
    "df=df.drop(['district','test'],axis=1)\n",
    "df=df.dropna(subset=['price'])\n",
    "df.drop('rooms',axis=1,inplace=True)\n",
    "df['random']=(df['averageDistrictValue'])**2\n",
    "df.drop('floor',axis=1,inplace=True)\n",
    "\n",
    "df.info()"
   ]
  },
  {
   "cell_type": "markdown",
   "metadata": {},
   "source": [
    "just working a bit with the dataset to understand what's going on. you can pass this."
   ]
  },
  {
   "cell_type": "code",
   "execution_count": null,
   "metadata": {},
   "outputs": [],
   "source": [
    "print(df.describe())"
   ]
  },
  {
   "cell_type": "code",
   "execution_count": null,
   "metadata": {},
   "outputs": [],
   "source": [
    "import matplotlib.pyplot as plt\n",
    "df.hist(bins=25, figsize=(12, 8))\n",
    "plt.show()"
   ]
  },
  {
   "cell_type": "markdown",
   "metadata": {},
   "source": [
    "**Deleting the outliers**"
   ]
  },
  {
   "cell_type": "code",
   "execution_count": null,
   "metadata": {},
   "outputs": [],
   "source": [
    "import numpy as np\n",
    "from scipy import stats\n",
    "outlierHigh = df[\"price\"].quantile(0.98)\n",
    "outlierLow = df[\"price\"].quantile(0.02)\n",
    "df.reset_index()\n",
    "df=df[(df['price'] > 2e9) & (df['price'] < 65e9)]\n",
    "df=df[(df['meter'] > 35) & (df['meter'] < 2000)]\n",
    "df=df[(df['buildYear'] > 1355) & (df['buildYear'] < 1404)]\n",
    "\n",
    "\n",
    "print(outlierLow/1e9,outlierHigh/1e9)\n",
    "df.describe()"
   ]
  },
  {
   "cell_type": "markdown",
   "metadata": {},
   "source": [
    "**making the test set**"
   ]
  },
  {
   "cell_type": "code",
   "execution_count": null,
   "metadata": {},
   "outputs": [],
   "source": [
    "from zlib import crc32\n",
    "import numpy as np\n",
    "def is_id_in_test_set(identifier, test_ratio):\n",
    "    return crc32(np.int64(identifier)) < test_ratio * 2**32\n",
    "def split_data_with_id_hash(data, test_ratio, id_column):\n",
    "    ids = data[id_column]\n",
    "    in_test_set = ids.apply(lambda id_: is_id_in_test_set(id_, test_ratio))\n",
    "    return data.loc[~in_test_set], data.loc[in_test_set]\n"
   ]
  },
  {
   "cell_type": "markdown",
   "metadata": {},
   "source": [
    "adding an index to data as it's needed."
   ]
  },
  {
   "cell_type": "code",
   "execution_count": null,
   "metadata": {},
   "outputs": [],
   "source": [
    "house_with_id = df.reset_index() # adds an `index` column\n",
    "train_set, test_set = split_data_with_id_hash(house_with_id, 0.2, \"index\")"
   ]
  },
  {
   "cell_type": "markdown",
   "metadata": {},
   "source": [
    "stratified sampling:"
   ]
  },
  {
   "cell_type": "code",
   "execution_count": null,
   "metadata": {},
   "outputs": [],
   "source": [
    "print(df['meter'].describe())\n",
    "df[\"meter_cat\"] = pd.cut(df[\"meter\"].astype(float),\n",
    "bins=[0., 40, 80, 120, 160, 200., np.inf],\n",
    "labels=[1, 2, 3, 4, 5, 6])\n",
    "df[\"meter_cat\"].value_counts().sort_index().plot.bar(rot=0, grid=True)\n",
    "plt.xlabel(\"Income category\")\n",
    "plt.ylabel(\"Number of districts\")\n",
    "# plt.show()"
   ]
  },
  {
   "cell_type": "code",
   "execution_count": null,
   "metadata": {},
   "outputs": [],
   "source": [
    "from sklearn.model_selection import StratifiedShuffleSplit\n",
    "\n",
    "splitter = StratifiedShuffleSplit(n_splits=1, test_size=0.2, random_state=0)\n",
    "stratSplits = []\n",
    "for trainIndex, testIndex in splitter.split(df, df[\"meter_cat\"]):\n",
    "    stratTrainSetN = df.iloc[trainIndex]\n",
    "    stratTestSetN = df.iloc[testIndex]\n",
    "    stratSplits.append([stratTrainSetN, stratTestSetN])\n",
    "    \n",
    "stratTrainSet, stratTestSet = stratSplits[0]"
   ]
  },
  {
   "cell_type": "code",
   "execution_count": null,
   "metadata": {},
   "outputs": [],
   "source": [
    "for set_ in ( stratTrainSet ,stratTestSet):\n",
    "    set_.drop(\"meter_cat\", axis=1 , inplace=True)"
   ]
  },
  {
   "cell_type": "markdown",
   "metadata": {},
   "source": [
    "_**START of the MODEL pre-process**_"
   ]
  },
  {
   "cell_type": "code",
   "execution_count": null,
   "metadata": {},
   "outputs": [],
   "source": [
    "house = stratTrainSet.copy()\n",
    "corr_matrix = house.corr()\n",
    "print(corr_matrix['price'].sort_values(ascending=False))"
   ]
  },
  {
   "cell_type": "markdown",
   "metadata": {},
   "source": [
    "_note 1_ : wow it seems that meter is really important!"
   ]
  },
  {
   "cell_type": "code",
   "execution_count": null,
   "metadata": {},
   "outputs": [],
   "source": [
    "house = stratTrainSet.drop('price',axis=1)\n",
    "labels = stratTrainSet[['price']].copy()"
   ]
  },
  {
   "cell_type": "markdown",
   "metadata": {},
   "source": [
    "**And finally The PIPELINE**"
   ]
  },
  {
   "cell_type": "code",
   "execution_count": null,
   "metadata": {},
   "outputs": [],
   "source": [
    "from sklearn.pipeline import Pipeline,make_pipeline\n",
    "from sklearn.impute import SimpleImputer\n",
    "from sklearn.compose import ColumnTransformer\n",
    "from sklearn.preprocessing import StandardScaler\n",
    "houseNum=house.select_dtypes(np.number)\n",
    "\n",
    "num_pipeline = Pipeline([\n",
    "(\"impute\", SimpleImputer(strategy='most_frequent')),\n",
    "])\n",
    "houseNumPrepared=num_pipeline.fit_transform(houseNum)\n",
    "cat_pipeline = make_pipeline(\n",
    "SimpleImputer(strategy=\"most_frequent\"))\n",
    "\n",
    "preprocessing = ColumnTransformer([],remainder=num_pipeline)\n",
    "preprocessing.fit(house)\n",
    "preprocessing"
   ]
  },
  {
   "cell_type": "markdown",
   "metadata": {},
   "source": [
    "**Train**"
   ]
  },
  {
   "cell_type": "markdown",
   "metadata": {},
   "source": [
    "**Really, Really Testing for overfitting**"
   ]
  },
  {
   "cell_type": "code",
   "execution_count": null,
   "metadata": {},
   "outputs": [],
   "source": [
    "import sklearn\n",
    "from sklearn.ensemble import RandomForestRegressor\n",
    "from sklearn.model_selection import cross_val_score\n",
    "forest_reg = make_pipeline(preprocessing,\n",
    "RandomForestRegressor(random_state=4))\n",
    "print(sklearn.metrics.get_scorer_names())\n",
    "forest_mape = -cross_val_score(forest_reg, house, labels['price'],cv=7,scoring=\"neg_mean_absolute_percentage_error\")\n",
    "forest_mae = -cross_val_score(forest_reg, house, labels['price'],cv=7,scoring=\"neg_mean_absolute_error\")"
   ]
  },
  {
   "cell_type": "code",
   "execution_count": null,
   "metadata": {},
   "outputs": [],
   "source": [
    "\n",
    "print(forest_mae.mean()/1e9,forest_mae.std())\n",
    "print(forest_mape.mean(),forest_mape.std())\n",
    "print(type(labels['price']))\n",
    "forest_reg.fit(house,labels['price'])\n",
    "housing_predictions = forest_reg.predict(house)\n"
   ]
  },
  {
   "cell_type": "markdown",
   "metadata": {},
   "source": [
    "**Fine tune"
   ]
  },
  {
   "cell_type": "code",
   "execution_count": null,
   "metadata": {},
   "outputs": [],
   "source": [
    "from sklearn.model_selection import GridSearchCV\n",
    "full_pipeline = Pipeline([\n",
    "(\"preprocessing\", preprocessing),\n",
    "(\"random_forest\", RandomForestRegressor(random_state=4)),\n",
    "])\n",
    "param_grid = [\n",
    "{'random_forest__max_features': [4],\n",
    "'random_forest__n_estimators':[100],\n",
    "'random_forest__max_depth':[20],\n",
    "'random_forest__min_samples_leaf':[1],\n",
    "}\n",
    "]\n",
    "grid_search = GridSearchCV(full_pipeline, param_grid, cv=3,\n",
    "scoring='neg_mean_absolute_error')\n",
    "grid_search.fit(house,labels.values.ravel())"
   ]
  },
  {
   "cell_type": "code",
   "execution_count": null,
   "metadata": {},
   "outputs": [],
   "source": [
    "print(grid_search.best_params_)\n",
    "cv_res = pd.DataFrame(grid_search.cv_results_)\n",
    "cv_res.sort_values(by=\"mean_test_score\", ascending=False, inplace=True)\n",
    "cv_res.head()\n"
   ]
  }
 ],
 "metadata": {
  "kernelspec": {
   "display_name": "Python 3",
   "language": "python",
   "name": "python3"
  },
  "language_info": {
   "codemirror_mode": {
    "name": "ipython",
    "version": 3
   },
   "file_extension": ".py",
   "mimetype": "text/x-python",
   "name": "python",
   "nbconvert_exporter": "python",
   "pygments_lexer": "ipython3",
   "version": "3.8.10"
  }
 },
 "nbformat": 4,
 "nbformat_minor": 2
}
