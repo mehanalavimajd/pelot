{
 "cells": [
  {
   "cell_type": "markdown",
   "metadata": {},
   "source": [
    "Let's go."
   ]
  },
  {
   "cell_type": "code",
   "execution_count": null,
   "metadata": {},
   "outputs": [],
   "source": [
    "import pandas as pd"
   ]
  },
  {
   "cell_type": "code",
   "execution_count": null,
   "metadata": {},
   "outputs": [],
   "source": [
    "def openData():\n",
    "    df=pd.read_csv(\"../data.csv\")\n",
    "    df.drop_duplicates()\n",
    "    return df\n",
    "\n",
    "house=openData()\n",
    "house.info()\n",
    "house['age'] = (1403-house['buildYear']) # adding age for better corr\n",
    "house['price']/=1000000000 # easier control\n",
    "house=house.dropna(subset=['price'])"
   ]
  },
  {
   "cell_type": "markdown",
   "metadata": {},
   "source": [
    "just working a bit with the dataset to understand what's going on. you can pass this."
   ]
  },
  {
   "cell_type": "code",
   "execution_count": null,
   "metadata": {},
   "outputs": [],
   "source": [
    "print(house.describe())"
   ]
  },
  {
   "cell_type": "code",
   "execution_count": null,
   "metadata": {},
   "outputs": [],
   "source": [
    "import matplotlib.pyplot as plt"
   ]
  },
  {
   "cell_type": "markdown",
   "metadata": {},
   "source": [
    "**making the test set**"
   ]
  },
  {
   "cell_type": "code",
   "execution_count": null,
   "metadata": {},
   "outputs": [],
   "source": [
    "from zlib import crc32\n",
    "import numpy as np\n",
    "def is_id_in_test_set(identifier, test_ratio):\n",
    "    return crc32(np.int64(identifier)) < test_ratio * 2**32\n",
    "def split_data_with_id_hash(data, test_ratio, id_column):\n",
    "    ids = data[id_column]\n",
    "    in_test_set = ids.apply(lambda id_: is_id_in_test_set(id_, test_ratio))\n",
    "    return data.loc[~in_test_set], data.loc[in_test_set]\n"
   ]
  },
  {
   "cell_type": "markdown",
   "metadata": {},
   "source": [
    "adding an index to data as it's needed."
   ]
  },
  {
   "cell_type": "code",
   "execution_count": null,
   "metadata": {},
   "outputs": [],
   "source": [
    "house_with_id = house.reset_index() # adds an `index` column\n",
    "train_set, test_set = split_data_with_id_hash(house_with_id, 0.2, \"index\")"
   ]
  },
  {
   "cell_type": "markdown",
   "metadata": {},
   "source": [
    "stratified sampling:"
   ]
  },
  {
   "cell_type": "code",
   "execution_count": null,
   "metadata": {},
   "outputs": [],
   "source": [
    "house[\"meter_cat\"] = pd.cut(house[\"meter\"],\n",
    "bins=[0., 40, 80, 120, 160, 200., np.inf],\n",
    "labels=[1, 2, 3, 4, 5, 6])\n",
    "house[\"meter_cat\"].value_counts().sort_index().plot.bar(rot=0, grid=True)\n",
    "plt.xlabel(\"Income category\")\n",
    "plt.ylabel(\"Number of districts\")\n",
    "# plt.show()"
   ]
  },
  {
   "cell_type": "code",
   "execution_count": null,
   "metadata": {},
   "outputs": [],
   "source": [
    "from sklearn.model_selection import StratifiedShuffleSplit\n",
    "\n",
    "splitter = StratifiedShuffleSplit(n_splits=1, test_size=0.2, random_state=0)\n",
    "stratSplits = []\n",
    "for trainIndex, testIndex in splitter.split(house, house[\"meter_cat\"]):\n",
    "    stratTrainSetN = house.iloc[trainIndex]\n",
    "    stratTestSetN = house.iloc[testIndex]\n",
    "    stratSplits.append([stratTrainSetN, stratTestSetN])\n",
    "    \n",
    "stratTrainSet, stratTestSet = stratSplits[0]"
   ]
  },
  {
   "cell_type": "code",
   "execution_count": null,
   "metadata": {},
   "outputs": [],
   "source": [
    "for set_ in ( stratTrainSet ,stratTestSet):\n",
    "    set_.drop(\"meter_cat\", axis=1 , inplace=True)"
   ]
  },
  {
   "cell_type": "markdown",
   "metadata": {},
   "source": [
    "_**START of the MODEL pre-process**_"
   ]
  },
  {
   "cell_type": "code",
   "execution_count": null,
   "metadata": {},
   "outputs": [],
   "source": [
    "house = stratTrainSet.copy()\n",
    "corr_matrix = house.corr()\n",
    "print(corr_matrix['price'].sort_values(ascending=False))"
   ]
  },
  {
   "cell_type": "markdown",
   "metadata": {},
   "source": [
    "_note 1_ : wow it seems that meter is really important!"
   ]
  },
  {
   "cell_type": "code",
   "execution_count": null,
   "metadata": {},
   "outputs": [],
   "source": [
    "\n",
    "print(stratTrainSet.describe())\n",
    "house = stratTrainSet.drop('price',axis=1)\n",
    "labels = stratTrainSet['price'].copy()\n",
    "print(labels.describe())"
   ]
  },
  {
   "cell_type": "markdown",
   "metadata": {},
   "source": [
    "imputation"
   ]
  },
  {
   "cell_type": "code",
   "execution_count": null,
   "metadata": {},
   "outputs": [],
   "source": [
    "def imputeFrequent(cols,h):\n",
    "    for col in cols:\n",
    "        frequent = house[col].mode()\n",
    "        h[[col]]=h[[col]].fillna(float(frequent),inplace=False)\n",
    "    return h\n",
    "house = imputeFrequent(['floor','rooms','meter','buildYear'], house)\n",
    "house.describe()\n"
   ]
  },
  {
   "cell_type": "markdown",
   "metadata": {},
   "source": [
    "*Handling district*"
   ]
  },
  {
   "cell_type": "code",
   "execution_count": null,
   "metadata": {},
   "outputs": [],
   "source": [
    "from sklearn.preprocessing import OneHotEncoder\n",
    "houseCategory=house[['district']]\n",
    "housingOneHot = OneHotEncoder().fit_transform(houseCategory)\n",
    "housingOneHot.toarray()"
   ]
  },
  {
   "cell_type": "markdown",
   "metadata": {},
   "source": [
    "number attributes:"
   ]
  },
  {
   "cell_type": "code",
   "execution_count": null,
   "metadata": {},
   "outputs": [],
   "source": [
    "from sklearn.preprocessing import StandardScaler\n",
    "std_scaler = StandardScaler()\n",
    "houseNum=house.select_dtypes(np.number)\n",
    "housingNumStd = std_scaler.fit_transform(houseNum)\n",
    "\n",
    "from sklearn.preprocessing import FunctionTransformer\n",
    "log_transformer = FunctionTransformer(np.log, inverse_func=np.exp)\n",
    "log_pop = log_transformer.transform(house[[\"meter\"]])"
   ]
  },
  {
   "cell_type": "markdown",
   "metadata": {},
   "source": [
    "**And finally The PIPELINE**"
   ]
  },
  {
   "cell_type": "code",
   "execution_count": null,
   "metadata": {},
   "outputs": [],
   "source": [
    "from sklearn.pipeline import Pipeline,make_pipeline\n",
    "from sklearn.impute import SimpleImputer\n",
    "from sklearn.compose import ColumnTransformer\n",
    "\n",
    "num_pipeline = Pipeline([\n",
    "(\"impute\", SimpleImputer(strategy='most_frequent')),\n",
    "(\"standardize\", StandardScaler()),\n",
    "])\n",
    "houseNumPrepared=num_pipeline.fit_transform(houseNum)\n",
    "cat_pipeline = make_pipeline(\n",
    "SimpleImputer(strategy=\"most_frequent\"),\n",
    "OneHotEncoder(handle_unknown=\"ignore\"))\n",
    "\n",
    "preprocessing = ColumnTransformer([\n",
    "    ('cat',cat_pipeline,['district'])\n",
    "],remainder=num_pipeline)\n",
    "housing_prepared = preprocessing.fit_transform(house)\n"
   ]
  },
  {
   "cell_type": "markdown",
   "metadata": {},
   "source": [
    "**Train**"
   ]
  },
  {
   "cell_type": "code",
   "execution_count": null,
   "metadata": {},
   "outputs": [],
   "source": [
    "from sklearn.tree import DecisionTreeRegressor\n",
    "reg = make_pipeline(preprocessing, DecisionTreeRegressor(random_state=7))\n",
    "reg.fit(house,labels)"
   ]
  },
  {
   "cell_type": "markdown",
   "metadata": {},
   "source": [
    "**Result**\n",
    "Linear regression: 5.641 rmse (wait, what? underFitting!)\n",
    "Decision tree: 0.01 rmse (wait, what? overFitting!)"
   ]
  },
  {
   "cell_type": "code",
   "execution_count": null,
   "metadata": {},
   "outputs": [],
   "source": [
    "housing_predictions = reg.predict(house)\n",
    "print(housing_predictions[:5]/1000000000)\n",
    "print(labels.iloc[:5].values/1000000000)"
   ]
  },
  {
   "cell_type": "code",
   "execution_count": null,
   "metadata": {},
   "outputs": [],
   "source": [
    "from sklearn.metrics import mean_squared_error\n",
    "rmse = mean_squared_error(labels, housing_predictions,squared=False)\n",
    "print(rmse/1000000000)# in billion"
   ]
  },
  {
   "cell_type": "markdown",
   "metadata": {},
   "source": [
    "**Really, Really Testing for overfitting**"
   ]
  },
  {
   "cell_type": "code",
   "execution_count": null,
   "metadata": {},
   "outputs": [],
   "source": [
    "from sklearn.model_selection import cross_val_score\n",
    "realRMSE = -cross_val_score(reg, house, labels,\n",
    "scoring=\"neg_root_mean_squared_error\", cv=10)\n",
    "pd.Series(realRMSE).describe() "
   ]
  },
  {
   "cell_type": "code",
   "execution_count": 52,
   "metadata": {},
   "outputs": [
    {
     "ename": "TypeError",
     "evalue": "cross_val_score() got an unexpected keyword argument 'random_state'",
     "output_type": "error",
     "traceback": [
      "\u001b[0;31m---------------------------------------------------------------------------\u001b[0m",
      "\u001b[0;31mTypeError\u001b[0m                                 Traceback (most recent call last)",
      "Cell \u001b[0;32mIn[52], line 4\u001b[0m\n\u001b[1;32m      1\u001b[0m \u001b[38;5;28;01mfrom\u001b[39;00m \u001b[38;5;21;01msklearn\u001b[39;00m\u001b[38;5;21;01m.\u001b[39;00m\u001b[38;5;21;01mensemble\u001b[39;00m \u001b[38;5;28;01mimport\u001b[39;00m RandomForestRegressor\n\u001b[1;32m      2\u001b[0m forest_reg \u001b[38;5;241m=\u001b[39m make_pipeline(preprocessing,\n\u001b[1;32m      3\u001b[0m RandomForestRegressor(random_state\u001b[38;5;241m=\u001b[39m\u001b[38;5;241m4\u001b[39m))\n\u001b[0;32m----> 4\u001b[0m forest_rmses \u001b[38;5;241m=\u001b[39m \u001b[38;5;241m-\u001b[39m\u001b[43mcross_val_score\u001b[49m\u001b[43m(\u001b[49m\u001b[43mforest_reg\u001b[49m\u001b[43m,\u001b[49m\u001b[43m \u001b[49m\u001b[43mhouse\u001b[49m\u001b[43m,\u001b[49m\u001b[43m \u001b[49m\u001b[43mlabels\u001b[49m\u001b[43m,\u001b[49m\n\u001b[1;32m      5\u001b[0m \u001b[43mscoring\u001b[49m\u001b[38;5;241;43m=\u001b[39;49m\u001b[38;5;124;43m\"\u001b[39;49m\u001b[38;5;124;43mneg_root_mean_squared_error\u001b[39;49m\u001b[38;5;124;43m\"\u001b[39;49m\u001b[43m,\u001b[49m\u001b[43m \u001b[49m\u001b[43mcv\u001b[49m\u001b[38;5;241;43m=\u001b[39;49m\u001b[38;5;241;43m5\u001b[39;49m\u001b[43m,\u001b[49m\u001b[43m \u001b[49m\u001b[43mrandom_state\u001b[49m\u001b[38;5;241;43m=\u001b[39;49m\u001b[38;5;241;43m2\u001b[39;49m\u001b[43m)\u001b[49m\n",
      "\u001b[0;31mTypeError\u001b[0m: cross_val_score() got an unexpected keyword argument 'random_state'"
     ]
    }
   ],
   "source": [
    "from sklearn.ensemble import RandomForestRegressor\n",
    "forest_reg = make_pipeline(preprocessing,\n",
    "RandomForestRegressor(random_state=4))\n",
    "forest_rmses = -cross_val_score(forest_reg, house, labels,\n",
    "scoring=\"neg_root_mean_squared_error\", cv=5, random_state=2)"
   ]
  },
  {
   "cell_type": "code",
   "execution_count": 51,
   "metadata": {},
   "outputs": [
    {
     "name": "stdout",
     "output_type": "stream",
     "text": [
      "count     5.000000\n",
      "mean      8.869477\n",
      "std       2.478523\n",
      "min       5.508141\n",
      "25%       7.479745\n",
      "50%       8.907142\n",
      "75%      10.884948\n",
      "max      11.567409\n",
      "dtype: float64\n",
      "[11.7146     12.72709643  2.5918      1.6134     23.625     ]\n",
      "[13.   12.65  2.45  1.2  24.  ]\n"
     ]
    }
   ],
   "source": [
    "print(pd.Series(forest_rmses).describe())\n",
    "forest_reg.fit(house,labels)\n",
    "housing_predictions = forest_reg.predict(house)\n",
    "print(housing_predictions[:5])\n",
    "print(labels.iloc[:5].values)\n"
   ]
  }
 ],
 "metadata": {
  "kernelspec": {
   "display_name": "Python 3",
   "language": "python",
   "name": "python3"
  },
  "language_info": {
   "codemirror_mode": {
    "name": "ipython",
    "version": 3
   },
   "file_extension": ".py",
   "mimetype": "text/x-python",
   "name": "python",
   "nbconvert_exporter": "python",
   "pygments_lexer": "ipython3",
   "version": "3.8.10"
  }
 },
 "nbformat": 4,
 "nbformat_minor": 2
}
