{
 "cells": [
  {
   "cell_type": "markdown",
   "metadata": {},
   "source": [
    "Let's go."
   ]
  },
  {
   "cell_type": "code",
   "execution_count": null,
   "metadata": {},
   "outputs": [],
   "source": [
    "import pandas as pd"
   ]
  },
  {
   "cell_type": "code",
   "execution_count": null,
   "metadata": {},
   "outputs": [],
   "source": [
    "def openData():\n",
    "    df=pd.read_csv(\"../data.csv\")\n",
    "    df.drop_duplicates()\n",
    "    return df\n",
    "house=openData()\n",
    "house.info()\n",
    "house=house.drop(['district','test'],axis=1)\n",
    "house=house.dropna(subset=['price'])"
   ]
  },
  {
   "cell_type": "markdown",
   "metadata": {},
   "source": [
    "just working a bit with the dataset to understand what's going on. you can pass this."
   ]
  },
  {
   "cell_type": "code",
   "execution_count": null,
   "metadata": {},
   "outputs": [],
   "source": [
    "print(house.describe())"
   ]
  },
  {
   "cell_type": "code",
   "execution_count": null,
   "metadata": {},
   "outputs": [],
   "source": [
    "import matplotlib.pyplot as plt\n",
    "house.hist(bins=50, figsize=(12, 8))\n",
    "plt.show()"
   ]
  },
  {
   "cell_type": "markdown",
   "metadata": {},
   "source": [
    "**Deleting the outliers**"
   ]
  },
  {
   "cell_type": "code",
   "execution_count": null,
   "metadata": {},
   "outputs": [],
   "source": [
    "import numpy as np\n",
    "from scipy import stats\n",
    "outlierHigh = house[\"price\"].quantile(0.99)\n",
    "outlierLow = house[\"price\"].quantile(0.01)\n",
    "house.reset_index()\n",
    "house=house[(house['price'] > outlierLow) & (house['price'] < outlierHigh)]\n",
    "house.describe()"
   ]
  },
  {
   "cell_type": "markdown",
   "metadata": {},
   "source": [
    "**making the test set**"
   ]
  },
  {
   "cell_type": "code",
   "execution_count": null,
   "metadata": {},
   "outputs": [],
   "source": [
    "from zlib import crc32\n",
    "import numpy as np\n",
    "def is_id_in_test_set(identifier, test_ratio):\n",
    "    return crc32(np.int64(identifier)) < test_ratio * 2**32\n",
    "def split_data_with_id_hash(data, test_ratio, id_column):\n",
    "    ids = data[id_column]\n",
    "    in_test_set = ids.apply(lambda id_: is_id_in_test_set(id_, test_ratio))\n",
    "    return data.loc[~in_test_set], data.loc[in_test_set]\n"
   ]
  },
  {
   "cell_type": "markdown",
   "metadata": {},
   "source": [
    "adding an index to data as it's needed."
   ]
  },
  {
   "cell_type": "code",
   "execution_count": null,
   "metadata": {},
   "outputs": [],
   "source": [
    "house_with_id = house.reset_index() # adds an `index` column\n",
    "train_set, test_set = split_data_with_id_hash(house_with_id, 0.2, \"index\")"
   ]
  },
  {
   "cell_type": "markdown",
   "metadata": {},
   "source": [
    "stratified sampling:"
   ]
  },
  {
   "cell_type": "code",
   "execution_count": null,
   "metadata": {},
   "outputs": [],
   "source": [
    "print(house['meter'].describe())\n",
    "house[\"meter_cat\"] = pd.cut(house[\"meter\"].astype(float),\n",
    "bins=[0., 40, 80, 120, 160, 200., np.inf],\n",
    "labels=[1, 2, 3, 4, 5, 6])\n",
    "house[\"meter_cat\"].value_counts().sort_index().plot.bar(rot=0, grid=True)\n",
    "plt.xlabel(\"Income category\")\n",
    "plt.ylabel(\"Number of districts\")\n",
    "# plt.show()"
   ]
  },
  {
   "cell_type": "code",
   "execution_count": null,
   "metadata": {},
   "outputs": [],
   "source": [
    "from sklearn.model_selection import StratifiedShuffleSplit\n",
    "\n",
    "splitter = StratifiedShuffleSplit(n_splits=1, test_size=0.2, random_state=0)\n",
    "stratSplits = []\n",
    "for trainIndex, testIndex in splitter.split(house, house[\"meter_cat\"]):\n",
    "    stratTrainSetN = house.iloc[trainIndex]\n",
    "    stratTestSetN = house.iloc[testIndex]\n",
    "    stratSplits.append([stratTrainSetN, stratTestSetN])\n",
    "    \n",
    "stratTrainSet, stratTestSet = stratSplits[0]"
   ]
  },
  {
   "cell_type": "code",
   "execution_count": null,
   "metadata": {},
   "outputs": [],
   "source": [
    "for set_ in ( stratTrainSet ,stratTestSet):\n",
    "    set_.drop(\"meter_cat\", axis=1 , inplace=True)"
   ]
  },
  {
   "cell_type": "markdown",
   "metadata": {},
   "source": [
    "_**START of the MODEL pre-process**_"
   ]
  },
  {
   "cell_type": "code",
   "execution_count": null,
   "metadata": {},
   "outputs": [],
   "source": [
    "house = stratTrainSet.copy()\n",
    "corr_matrix = house.corr()\n",
    "print(corr_matrix['price'].sort_values(ascending=False))"
   ]
  },
  {
   "cell_type": "markdown",
   "metadata": {},
   "source": [
    "_note 1_ : wow it seems that meter is really important!"
   ]
  },
  {
   "cell_type": "code",
   "execution_count": null,
   "metadata": {},
   "outputs": [],
   "source": [
    "\n",
    "print(stratTrainSet.describe())\n",
    "house = stratTrainSet.drop('price',axis=1)\n",
    "labels = stratTrainSet[['price']].copy()\n",
    "print(labels.describe())"
   ]
  },
  {
   "cell_type": "markdown",
   "metadata": {},
   "source": [
    "imputation"
   ]
  },
  {
   "cell_type": "code",
   "execution_count": null,
   "metadata": {},
   "outputs": [],
   "source": [
    "def imputeFrequent(cols,h):\n",
    "    for col in cols:\n",
    "        frequent = house[col].mode()\n",
    "        h[[col]]=h[[col]].fillna(float(frequent),inplace=False)\n",
    "    return h\n",
    "house = imputeFrequent(['floor','rooms','meter','buildYear'], house)\n",
    "house.describe()\n"
   ]
  },
  {
   "cell_type": "markdown",
   "metadata": {},
   "source": [
    "*Handling district*"
   ]
  },
  {
   "cell_type": "markdown",
   "metadata": {},
   "source": [
    "number attributes:"
   ]
  },
  {
   "cell_type": "code",
   "execution_count": null,
   "metadata": {},
   "outputs": [],
   "source": [
    "from sklearn.preprocessing import StandardScaler\n",
    "std_scaler = StandardScaler()\n",
    "houseNum=house.select_dtypes(np.number)\n",
    "housingNumStd = std_scaler.fit_transform(houseNum)\n",
    "\n",
    "from sklearn.preprocessing import FunctionTransformer\n",
    "log_transformer = FunctionTransformer(np.log, inverse_func=np.exp)\n",
    "log_pop = log_transformer.transform(house[[\"meter\"]])"
   ]
  },
  {
   "cell_type": "markdown",
   "metadata": {},
   "source": [
    "**And finally The PIPELINE**"
   ]
  },
  {
   "cell_type": "code",
   "execution_count": null,
   "metadata": {},
   "outputs": [],
   "source": [
    "from sklearn.pipeline import Pipeline,make_pipeline\n",
    "from sklearn.impute import SimpleImputer\n",
    "from sklearn.compose import ColumnTransformer\n",
    "\n",
    "num_pipeline = Pipeline([\n",
    "(\"impute\", SimpleImputer(strategy='most_frequent')),\n",
    "(\"standardize\", StandardScaler()),\n",
    "])\n",
    "houseNumPrepared=num_pipeline.fit_transform(houseNum)\n",
    "cat_pipeline = make_pipeline(\n",
    "SimpleImputer(strategy=\"most_frequent\"))\n",
    "\n",
    "preprocessing = ColumnTransformer([\n",
    "],remainder=num_pipeline)\n",
    "housing_prepared = preprocessing.fit_transform(house)\n"
   ]
  },
  {
   "cell_type": "markdown",
   "metadata": {},
   "source": [
    "**Train**"
   ]
  },
  {
   "cell_type": "markdown",
   "metadata": {},
   "source": [
    "**Really, Really Testing for overfitting**"
   ]
  },
  {
   "cell_type": "code",
   "execution_count": 199,
   "metadata": {},
   "outputs": [
    {
     "name": "stdout",
     "output_type": "stream",
     "text": [
      "['accuracy', 'adjusted_mutual_info_score', 'adjusted_rand_score', 'average_precision', 'balanced_accuracy', 'completeness_score', 'explained_variance', 'f1', 'f1_macro', 'f1_micro', 'f1_samples', 'f1_weighted', 'fowlkes_mallows_score', 'homogeneity_score', 'jaccard', 'jaccard_macro', 'jaccard_micro', 'jaccard_samples', 'jaccard_weighted', 'matthews_corrcoef', 'max_error', 'mutual_info_score', 'neg_brier_score', 'neg_log_loss', 'neg_mean_absolute_error', 'neg_mean_absolute_percentage_error', 'neg_mean_gamma_deviance', 'neg_mean_poisson_deviance', 'neg_mean_squared_error', 'neg_mean_squared_log_error', 'neg_median_absolute_error', 'neg_negative_likelihood_ratio', 'neg_root_mean_squared_error', 'normalized_mutual_info_score', 'positive_likelihood_ratio', 'precision', 'precision_macro', 'precision_micro', 'precision_samples', 'precision_weighted', 'r2', 'rand_score', 'recall', 'recall_macro', 'recall_micro', 'recall_samples', 'recall_weighted', 'roc_auc', 'roc_auc_ovo', 'roc_auc_ovo_weighted', 'roc_auc_ovr', 'roc_auc_ovr_weighted', 'top_k_accuracy', 'v_measure_score']\n"
     ]
    }
   ],
   "source": [
    "import sklearn\n",
    "from sklearn.ensemble import RandomForestRegressor\n",
    "from sklearn.model_selection import cross_val_score\n",
    "forest_reg = make_pipeline(preprocessing,\n",
    "RandomForestRegressor(random_state=4))\n",
    "print(sklearn.metrics.get_scorer_names())\n",
    "forest_mae = -cross_val_score(forest_reg, house, labels['price'],cv=7,scoring=\"neg_mean_absolute_error\")\n",
    "forest_rmse = -cross_val_score(forest_reg, house, labels['price'],cv=7,scoring=\"neg_mean_squared_error\")"
   ]
  },
  {
   "cell_type": "code",
   "execution_count": 200,
   "metadata": {},
   "outputs": [
    {
     "name": "stdout",
     "output_type": "stream",
     "text": [
      "3.0297352090086807 2.0832913193623483e+18\n",
      "1.5269846301908618 98308056.39135148\n",
      "<class 'pandas.core.series.Series'>\n",
      "[ 6.62326 28.811    4.9133   3.91633  3.76355]\n",
      "2582     6.0000\n",
      "1231    22.1000\n",
      "2565     4.8000\n",
      "1010     3.9375\n",
      "2904     4.1000\n",
      "Name: price, dtype: float64\n"
     ]
    }
   ],
   "source": [
    "from math import sqrt\n",
    "print(sqrt(forest_rmse.mean())/1e9,forest_rmse.std())\n",
    "print(forest_mae.mean()/1e9,forest_mae.std())\n",
    "print(type(labels['price']))\n",
    "forest_reg.fit(house,labels['price'])\n",
    "housing_predictions = forest_reg.predict(house)\n",
    "print(housing_predictions[:5]/1e9)\n",
    "print(labels['price'][:5]/1e9)\n"
   ]
  }
 ],
 "metadata": {
  "kernelspec": {
   "display_name": "Python 3",
   "language": "python",
   "name": "python3"
  },
  "language_info": {
   "codemirror_mode": {
    "name": "ipython",
    "version": 3
   },
   "file_extension": ".py",
   "mimetype": "text/x-python",
   "name": "python",
   "nbconvert_exporter": "python",
   "pygments_lexer": "ipython3",
   "version": "3.8.10"
  }
 },
 "nbformat": 4,
 "nbformat_minor": 2
}
